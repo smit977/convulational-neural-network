{
 "cells": [
  {
   "cell_type": "code",
   "execution_count": 1,
   "metadata": {},
   "outputs": [],
   "source": [
    "from tkinter import *\n",
    "from tkinter import filedialog\n",
    "import os\n",
    "import tkinter as tk\n",
    "from keras.preprocessing import image\n",
    "from keras.models import load_model\n",
    "import tensorflow as tf\n",
    "import numpy as np"
   ]
  },
  {
   "cell_type": "code",
   "execution_count": 2,
   "metadata": {},
   "outputs": [],
   "source": [
    "root = Tk()\n",
    "root.geometry(\"200x250\")\n",
    "root.title(\"Pneumonia Detection\")\n",
    "fontButton='Helvetica 15 bold'\n",
    "fontLabel='Helvetica 20 bold'\n",
    "def clear():\n",
    "    Output.delete('1.0', END)\n",
    "def Take_input():\n",
    "    #browsing x-ray image\n",
    "    fil=filedialog.askopenfilename(initialdir=os.getcwd(),title=\"Select Image File\",filetypes=((\"JPG FILE\",\"*.jpg\"),(\"PNG FILE\",\"*.png\"),(\"ALL FILES\",\"*.*\")))\n",
    "    #preprocessing and load model\n",
    "    classifierLoad = tf.keras.models.load_model('E:/downloadschrome/x-ray.h5')\n",
    "    test_image= image.load_img(fil,target_size=(224,224))\n",
    "    test_image=image.img_to_array(test_image)\n",
    "    test_image=np.expand_dims(test_image,axis=0)\n",
    "    result=classifierLoad.predict(test_image)\n",
    "    if result[0][0]==1:\n",
    "        Output.insert(END, 'No')\n",
    "    else:\n",
    "        Output.insert(END, 'Yes')\n",
    "\n",
    "\n",
    "\n",
    "Output = Text(root, height = 10, \n",
    "              width = 20, \n",
    "              bg = \"light cyan\")\n",
    "  \n",
    "Display = Button(root, height = 2,\n",
    "                 width = 20, \n",
    "                 text =\"Browse(X-ray image)\",\n",
    "                 bg='light sea green',\n",
    "                 fg='white',\n",
    "                 font=fontButton,\n",
    "                 command = lambda:Take_input())\n",
    "buttonClear=Button(root,height=2,width=20,text='CLEAR',bg='gold',fg='white',font=fontButton,command=clear)\n",
    "Display.pack()\n",
    "Output.pack()\n",
    "buttonClear.pack()\n",
    "  \n",
    "mainloop()\n"
   ]
  },
  {
   "cell_type": "code",
   "execution_count": null,
   "metadata": {},
   "outputs": [],
   "source": []
  }
 ],
 "metadata": {
  "kernelspec": {
   "display_name": "Python 3",
   "language": "python",
   "name": "python3"
  },
  "language_info": {
   "codemirror_mode": {
    "name": "ipython",
    "version": 3
   },
   "file_extension": ".py",
   "mimetype": "text/x-python",
   "name": "python",
   "nbconvert_exporter": "python",
   "pygments_lexer": "ipython3",
   "version": "3.7.9"
  }
 },
 "nbformat": 4,
 "nbformat_minor": 4
}
 
