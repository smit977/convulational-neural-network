{
  "nbformat": 4,
  "nbformat_minor": 0,
  "metadata": {
    "kernelspec": {
      "display_name": "Python 3",
      "language": "python",
      "name": "python3"
    },
    "language_info": {
      "codemirror_mode": {
        "name": "ipython",
        "version": 3
      },
      "file_extension": ".py",
      "mimetype": "text/x-python",
      "name": "python",
      "nbconvert_exporter": "python",
      "pygments_lexer": "ipython3",
      "version": "3.7.9"
    },
    "colab": {
      "name": "brain_tumour_detection.ipynb",
      "provenance": [],
      "collapsed_sections": [],
      "include_colab_link": true
    }
  },
  "cells": [
    {
      "cell_type": "markdown",
      "metadata": {
        "id": "view-in-github",
        "colab_type": "text"
      },
      "source": [
        "<a href=\"https://colab.research.google.com/github/smit977/convulational-neural-network/blob/master/brain_tumour_detection.ipynb\" target=\"_parent\"><img src=\"https://colab.research.google.com/assets/colab-badge.svg\" alt=\"Open In Colab\"/></a>"
      ]
    },
    {
      "cell_type": "code",
      "metadata": {
        "id": "OAXSjDtlflxm"
      },
      "source": [
        "import numpy as np\n",
        "import tensorflow as tf\n",
        "from tensorflow import keras\n",
        "from tensorflow.keras.models import Sequential\n",
        "from tensorflow.keras.layers import Activation,Dense,Flatten,BatchNormalization,Conv2D,MaxPool2D\n",
        "from tensorflow.keras.optimizers import Adam\n",
        "from tensorflow.keras.metrics import categorical_crossentropy\n",
        "from tensorflow.keras.preprocessing.image import ImageDataGenerator\n",
        "# from  sklearn.metrics import categorical_crossentropy\n",
        "\n",
        "import itertools\n",
        "import os\n",
        "import random\n",
        "\n",
        "import matplotlib.pyplot as plt\n",
        "import warnings\n",
        "warnings.simplefilter(action='ignore',category=FutureWarning)\n",
        "%matplotlib inline\n"
      ],
      "execution_count": null,
      "outputs": []
    },
    {
      "cell_type": "code",
      "metadata": {
        "id": "8NUsTTmhflxv"
      },
      "source": [
        "train_path='C:\\\\Users\\\\HP\\\\Downloads\\\\data\\\\brain_tumor_dataset\\\\train'\n",
        "test_path='C:\\\\Users\\\\HP\\\\Downloads\\\\data\\\\brain_tumor_dataset\\\\test'\n",
        "valid_path='C:\\\\Users\\\\HP\\\\Downloads\\\\data\\\\brain_tumor_dataset\\\\valid'"
      ],
      "execution_count": null,
      "outputs": []
    },
    {
      "cell_type": "code",
      "metadata": {
        "id": "wIz03gMDflxv"
      },
      "source": [
        "#preprocessing images\n",
        "\n",
        "train_batches= ImageDataGenerator(preprocessing_function=tf.keras.applications.vgg16.preprocess_input).flow_from_directory(directory=train_path,target_size=(224,224),classes=['no','yes'],batch_size=10)\n",
        "test_batches= ImageDataGenerator(preprocessing_function=tf.keras.applications.vgg16.preprocess_input).flow_from_directory(directory=test_path,target_size=(224,224),classes=['no','yes'],batch_size=10)\n",
        "valid_batches= ImageDataGenerator(preprocessing_function=tf.keras.applications.vgg16.preprocess_input).flow_from_directory(directory=valid_path,target_size=(224,224),classes=['no','yes'],batch_size=10,shuffle=True)\n"
      ],
      "execution_count": null,
      "outputs": []
    },
    {
      "cell_type": "code",
      "metadata": {
        "id": "6D_wQ26cflxw"
      },
      "source": [
        "imgs, labels=next(train_batches)"
      ],
      "execution_count": null,
      "outputs": []
    },
    {
      "cell_type": "code",
      "metadata": {
        "id": "Gs7ewXMjflxx"
      },
      "source": [
        "def plotImages(images_arr):\n",
        "    flg,axes=plt.subplots(1,10,figsize=(20,20))\n",
        "    axes=axes.flatten()\n",
        "    for img,ax in zip(images_arr,axes):\n",
        "        ax.imshow(img)\n",
        "        ax.axis('off')\n",
        "    plt.tight_layout()\n",
        "    plt.show"
      ],
      "execution_count": null,
      "outputs": []
    },
    {
      "cell_type": "code",
      "metadata": {
        "id": "mwZBSo5kflxx"
      },
      "source": [
        "plotImages(imgs)\n",
        "print(labels)"
      ],
      "execution_count": null,
      "outputs": []
    },
    {
      "cell_type": "code",
      "metadata": {
        "id": "cOMfySA-flxy"
      },
      "source": [
        "#creating neural structure\n",
        "model=Sequential([\n",
        "    Conv2D(filters=64,kernel_size=(3,3),activation='relu',padding='same',input_shape=(224,224,3)),\n",
        "    MaxPool2D(pool_size=(2,2),strides=2),\n",
        "    Conv2D(filters=128,kernel_size=(3,3),activation='relu',padding='same'),\n",
        "    MaxPool2D(pool_size=(2,2),strides=2),\n",
        "    Flatten(),\n",
        "    Dense(units=2,activation='softmax'),\n",
        "])"
      ],
      "execution_count": null,
      "outputs": []
    },
    {
      "cell_type": "code",
      "metadata": {
        "id": "LpJzT6dsflxy"
      },
      "source": [
        "model.summary()"
      ],
      "execution_count": null,
      "outputs": []
    },
    {
      "cell_type": "code",
      "metadata": {
        "id": "ZX0pGJLAflxy"
      },
      "source": [
        "model.compile(optimizer=Adam(learning_rate=0.001),loss='categorical_crossentropy',metrics=['accuracy'])"
      ],
      "execution_count": null,
      "outputs": []
    },
    {
      "cell_type": "code",
      "metadata": {
        "id": "GGqHlnA9flxz"
      },
      "source": [
        "model.fit(x=train_batches,validation_data=valid_batches,epochs=13,verbose=2)"
      ],
      "execution_count": null,
      "outputs": []
    },
    {
      "cell_type": "code",
      "metadata": {
        "id": "ZhGKjo_mflxz"
      },
      "source": [
        "test_imgs,test_labels =next(test_batches)\n",
        "plotImages(test_imgs)\n",
        "print(test_labels)"
      ],
      "execution_count": null,
      "outputs": []
    },
    {
      "cell_type": "code",
      "metadata": {
        "id": "tVoE6hUKflxz"
      },
      "source": [
        "prediction=model.predict(x=test_batches,verbose=0)\n"
      ],
      "execution_count": null,
      "outputs": []
    },
    {
      "cell_type": "code",
      "metadata": {
        "id": "pvCo0GRjflx0"
      },
      "source": [
        "model.save('C:\\\\Users\\\\HP\\\\Downloads\\\\data\\\\brain_tumour.h5')"
      ],
      "execution_count": null,
      "outputs": []
    },
    {
      "cell_type": "code",
      "metadata": {
        "id": "o0XnoAoyflx0"
      },
      "source": [
        "from keras.models import load_model\n",
        "classifierLoad = tf.keras.models.load_model('C:\\\\Users\\\\HP\\\\Downloads\\\\data\\\\brain_tumour.h5')\n",
        "\n"
      ],
      "execution_count": null,
      "outputs": []
    },
    {
      "cell_type": "code",
      "metadata": {
        "id": "EIWLUxuQflx0"
      },
      "source": [
        "from keras.preprocessing import image"
      ],
      "execution_count": null,
      "outputs": []
    },
    {
      "cell_type": "code",
      "metadata": {
        "id": "ZbA8K4v-flx1"
      },
      "source": [
        "test_image= image.load_img('E:\\\\downloadschrome\\\\BT_Neuro_MRI2_MEDIMG-PHO_EN.jpg',target_size=(224,224))"
      ],
      "execution_count": null,
      "outputs": []
    },
    {
      "cell_type": "code",
      "metadata": {
        "id": "v44b_y_hflx1"
      },
      "source": [
        "test_image=image.img_to_array(test_image)"
      ],
      "execution_count": null,
      "outputs": []
    },
    {
      "cell_type": "code",
      "metadata": {
        "id": "5OYi8Y2Yflx1"
      },
      "source": [
        "test_image=np.expand_dims(test_image,axis=0)\n",
        "result=classifierLoad.predict(test_image)"
      ],
      "execution_count": null,
      "outputs": []
    },
    {
      "cell_type": "code",
      "metadata": {
        "id": "Tt1y52qUflx1"
      },
      "source": [
        "if result[0][0]==1:\n",
        "    print('No')\n",
        "else:\n",
        "    print('Yes')"
      ],
      "execution_count": null,
      "outputs": []
    },
    {
      "cell_type": "code",
      "metadata": {
        "id": "aGkwTUq5flx1"
      },
      "source": [
        ""
      ],
      "execution_count": null,
      "outputs": []
    }
  ]
}