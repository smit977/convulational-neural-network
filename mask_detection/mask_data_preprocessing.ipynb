{
 "cells": [
  {
   "cell_type": "code",
   "execution_count": 1,
   "metadata": {},
   "outputs": [
    {
     "name": "stdout",
     "output_type": "stream",
     "text": [
      "{'with mask': 0, 'without mask': 1}\n",
      "['with mask', 'without mask']\n",
      "[0, 1]\n"
     ]
    }
   ],
   "source": [
    "import os ,cv2\n",
    "\n",
    "data_path='E:/downloadschrome/dataset2/'\n",
    "categories=os.listdir(data_path)\n",
    "labels=[i for i in range(len(categories))]\n",
    "\n",
    "label_dict=dict(zip(categories,labels))\n",
    "\n",
    "print(label_dict)\n",
    "print(categories)\n",
    "print(labels)\n"
   ]
  },
  {
   "cell_type": "code",
   "execution_count": 2,
   "metadata": {},
   "outputs": [],
   "source": [
    "img_size=100\n",
    "data=[]\n",
    "target=[]\n",
    "\n",
    "for category in categories:\n",
    "    folder_path=os.path.join(data_path,category)\n",
    "    img_names=os.listdir(folder_path)\n",
    "    \n",
    "    for img_name in img_names:\n",
    "        img_path=os.path.join(folder_path,img_name)\n",
    "        img=cv2.imread(img_path)\n",
    "        \n",
    "        try:\n",
    "            gray=cv2.cvtColor(img,cv2.COLOR_BGR2GRAY)\n",
    "            resized=cv2.resize(gray,(img_size,img_size))\n",
    "            data.append(resized)\n",
    "            target.append(label_dict[category])\n",
    "        except Exception as e:\n",
    "            print(\"Exception:\",e)\n"
   ]
  },
  {
   "cell_type": "code",
   "execution_count": 3,
   "metadata": {},
   "outputs": [
    {
     "name": "stdout",
     "output_type": "stream",
     "text": [
      "(1376, 100, 100)\n"
     ]
    }
   ],
   "source": [
    "import numpy as np\n",
    "print(np.array(data).shape)"
   ]
  },
  {
   "cell_type": "code",
   "execution_count": 4,
   "metadata": {},
   "outputs": [
    {
     "name": "stderr",
     "output_type": "stream",
     "text": [
      "Using TensorFlow backend.\n"
     ]
    }
   ],
   "source": [
    "data=np.array(data)/255.0\n",
    "data=np.reshape(data,(data.shape[0],img_size,img_size,1))\n",
    "target= np.array(target)\n",
    "\n",
    "from keras.utils import np_utils\n",
    "new_target=np_utils.to_categorical(target)"
   ]
  },
  {
   "cell_type": "code",
   "execution_count": 5,
   "metadata": {},
   "outputs": [],
   "source": [
    "np.save('data',data)\n",
    "np.save('target',new_target)"
   ]
  },
  {
   "cell_type": "code",
   "execution_count": 6,
   "metadata": {},
   "outputs": [],
   "source": [
    "#lets load our save data\n",
    "data=np.load('data.npy')\n",
    "target=np.load('target.npy')"
   ]
  },
  {
   "cell_type": "code",
   "execution_count": 7,
   "metadata": {},
   "outputs": [],
   "source": [
    "from keras.models import Sequential\n",
    "from keras.layers import Dense,Activation,Flatten,Dropout\n",
    "from keras.layers import Conv2D,MaxPooling2D\n",
    "from keras.callbacks import ModelCheckpoint\n",
    "\n",
    "model=Sequential()\n",
    "\n",
    "model.add(Conv2D(200,(3,3),input_shape=data.shape[1:]))\n",
    "model.add(Activation('relu'))\n",
    "model.add(MaxPooling2D(pool_size=(2,2)))\n",
    "#The first CNN layer followed by Relu and MaxPooling layers\n",
    "\n",
    "model.add(Conv2D(100,(3,3)))\n",
    "model.add(Activation('relu'))\n",
    "model.add(MaxPooling2D(pool_size=(2,2)))\n",
    "#The second convolution layer followed by Relu and MaxPooling layers\n",
    "\n",
    "model.add(Flatten())\n",
    "model.add(Dropout(0.5))\n",
    "#Flatten layer to stack the output convolutions from second convolution layer\n",
    "model.add(Dense(50,activation='relu'))\n",
    "#Dense layer of 64 neurons\n",
    "model.add(Dense(2,activation='softmax'))\n",
    "#The Final layer with two outputs for two categories\n",
    "\n",
    "model.compile(loss='categorical_crossentropy',optimizer='adam',metrics=['accuracy'])"
   ]
  },
  {
   "cell_type": "code",
   "execution_count": 9,
   "metadata": {},
   "outputs": [
    {
     "name": "stdout",
     "output_type": "stream",
     "text": [
      "Train on 990 samples, validate on 248 samples\n",
      "Epoch 1/20\n",
      "990/990 [==============================] - 47s 47ms/step - loss: 0.6926 - accuracy: 0.5626 - val_loss: 0.6156 - val_accuracy: 0.5524\n",
      "Epoch 2/20\n",
      "990/990 [==============================] - 47s 47ms/step - loss: 0.4922 - accuracy: 0.7646 - val_loss: 0.3177 - val_accuracy: 0.8871\n",
      "Epoch 3/20\n",
      "990/990 [==============================] - 48s 49ms/step - loss: 0.3034 - accuracy: 0.8768 - val_loss: 0.1862 - val_accuracy: 0.9597\n",
      "Epoch 4/20\n",
      "990/990 [==============================] - 49s 49ms/step - loss: 0.1942 - accuracy: 0.9263 - val_loss: 0.1038 - val_accuracy: 0.9718\n",
      "Epoch 5/20\n",
      "990/990 [==============================] - 50s 51ms/step - loss: 0.1468 - accuracy: 0.9505 - val_loss: 0.0878 - val_accuracy: 0.9718\n",
      "Epoch 6/20\n",
      "990/990 [==============================] - 49s 50ms/step - loss: 0.1310 - accuracy: 0.9566 - val_loss: 0.1369 - val_accuracy: 0.9516\n",
      "Epoch 7/20\n",
      "990/990 [==============================] - 50s 50ms/step - loss: 0.1048 - accuracy: 0.9657 - val_loss: 0.0886 - val_accuracy: 0.9556\n",
      "Epoch 8/20\n",
      "990/990 [==============================] - 49s 50ms/step - loss: 0.1041 - accuracy: 0.9646 - val_loss: 0.0620 - val_accuracy: 0.9758\n",
      "Epoch 9/20\n",
      "990/990 [==============================] - 50s 50ms/step - loss: 0.0603 - accuracy: 0.9808 - val_loss: 0.1068 - val_accuracy: 0.9556\n",
      "Epoch 10/20\n",
      "990/990 [==============================] - 49s 50ms/step - loss: 0.0649 - accuracy: 0.9747 - val_loss: 0.0510 - val_accuracy: 0.9758\n",
      "Epoch 11/20\n",
      "990/990 [==============================] - 51s 51ms/step - loss: 0.0538 - accuracy: 0.9798 - val_loss: 0.0719 - val_accuracy: 0.9718\n",
      "Epoch 12/20\n",
      "990/990 [==============================] - 49s 50ms/step - loss: 0.0567 - accuracy: 0.9828 - val_loss: 0.1593 - val_accuracy: 0.9355\n",
      "Epoch 13/20\n",
      "990/990 [==============================] - 49s 50ms/step - loss: 0.0472 - accuracy: 0.9828 - val_loss: 0.0566 - val_accuracy: 0.9758\n",
      "Epoch 14/20\n",
      "990/990 [==============================] - 52s 53ms/step - loss: 0.0287 - accuracy: 0.9889 - val_loss: 0.0553 - val_accuracy: 0.9758\n",
      "Epoch 15/20\n",
      "990/990 [==============================] - 48s 48ms/step - loss: 0.0253 - accuracy: 0.9909 - val_loss: 0.0897 - val_accuracy: 0.9718\n",
      "Epoch 16/20\n",
      "990/990 [==============================] - 48s 48ms/step - loss: 0.0426 - accuracy: 0.9879 - val_loss: 0.0896 - val_accuracy: 0.9637\n",
      "Epoch 17/20\n",
      "990/990 [==============================] - 48s 49ms/step - loss: 0.0629 - accuracy: 0.9798 - val_loss: 0.0709 - val_accuracy: 0.9798\n",
      "Epoch 18/20\n",
      "990/990 [==============================] - 47s 48ms/step - loss: 0.0246 - accuracy: 0.9899 - val_loss: 0.0685 - val_accuracy: 0.9798\n",
      "Epoch 19/20\n",
      "990/990 [==============================] - 48s 48ms/step - loss: 0.0176 - accuracy: 0.9960 - val_loss: 0.0642 - val_accuracy: 0.9718\n",
      "Epoch 20/20\n",
      "990/990 [==============================] - 47s 47ms/step - loss: 0.0140 - accuracy: 0.9970 - val_loss: 0.0393 - val_accuracy: 0.9839\n"
     ]
    }
   ],
   "source": [
    "from sklearn.model_selection import train_test_split\n",
    "\n",
    "train_data,test_data,train_target,test_target=train_test_split(data,target,test_size=0.1)\n",
    "\n",
    "checkpoint = ModelCheckpoint('model-{epoch:03d}.model',monitor='val_loss',verbose=0,save_best_only=True,mode='auto')\n",
    "history=model.fit(train_data,train_target,epochs=20,callbacks=[checkpoint],validation_split=0.2)"
   ]
  },
  {
   "cell_type": "code",
   "execution_count": 10,
   "metadata": {},
   "outputs": [
    {
     "data": {
      "image/png": "[encoded data removed]",
      "text/plain": [
       "<Figure size 432x288 with 1 Axes>"
      ]
     },
     "metadata": {
      "needs_background": "light"
     },
     "output_type": "display_data"
    }
   ],
   "source": [
    "from matplotlib import pyplot as plt\n",
    "\n",
    "plt.plot(history.history['loss'],'r',label='training loss')\n",
    "plt.plot(history.history['val_loss'],label='validation loss')\n",
    "plt.xlabel('# epochs')\n",
    "plt.ylabel('loss')\n",
    "plt.legend()\n",
    "plt.show()"
   ]
  },
  {
   "cell_type": "code",
   "execution_count": 11,
   "metadata": {},
   "outputs": [
    {
     "data": {
      "image/png": "[encoded data removed]",
      "text/plain": [
       "<Figure size 432x288 with 1 Axes>"
      ]
     },
     "metadata": {
      "needs_background": "light"
     },
     "output_type": "display_data"
    }
   ],
   "source": [
    "plt.plot(history.history['accuracy'],'r',label='training accuracy')\n",
    "plt.plot(history.history['val_accuracy'],label='validation accuracy')\n",
    "plt.xlabel('# epochs')\n",
    "plt.ylabel('loss')\n",
    "plt.legend()\n",
    "plt.show()"
   ]
  },
  {
   "cell_type": "code",
   "execution_count": 12,
   "metadata": {},
   "outputs": [
    {
     "name": "stdout",
     "output_type": "stream",
     "text": [
      "138/138 [==============================] - 2s 11ms/step\n",
      "[0.15303580614103787, 0.9637681245803833]\n"
     ]
    }
   ],
   "source": [
    "print(model.evaluate(test_data,test_target))"
   ]
  },
  {
   "cell_type": "code",
   "execution_count": null,
   "metadata": {},
   "outputs": [],
   "source": []
  }
 ],
 "metadata": {
  "kernelspec": {
   "display_name": "Python 3",
   "language": "python",
   "name": "python3"
  },
  "language_info": {
   "codemirror_mode": {
    "name": "ipython",
    "version": 3
   },
   "file_extension": ".py",
   "mimetype": "text/x-python",
   "name": "python",
   "nbconvert_exporter": "python",
   "pygments_lexer": "ipython3",
   "version": "3.7.9"
  }
 },
 "nbformat": 4,
 "nbformat_minor": 4
}

